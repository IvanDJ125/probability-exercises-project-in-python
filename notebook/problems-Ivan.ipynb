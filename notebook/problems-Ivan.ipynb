{
 "cells": [
  {
   "cell_type": "markdown",
   "id": "a41f3622",
   "metadata": {},
   "source": [
    "# Probability exercises"
   ]
  },
  {
   "cell_type": "markdown",
   "id": "a6bdbd89",
   "metadata": {},
   "source": [
    "## Exercise 1 \n",
    "\n",
    "Two dices are thrown once and the total score is observed. Use a simulation to find the estimated probability that the total score is even or greater than 7.  A simulation is a repetition of the same experiment multiple times to observe its behavior:\n",
    "\n",
    "- Run the experiment 1000 times (roll 2 dice 1000 times, and sum the number of both dices).\n",
    "- Keep track of the number of times that the sum was either greater than 7 or an even number.\n",
    "- Divide the number from step 2 by the number of iterations (1000)."
   ]
  },
  {
   "cell_type": "code",
   "execution_count": 18,
   "id": "8939d892",
   "metadata": {},
   "outputs": [
    {
     "name": "stdout",
     "output_type": "stream",
     "text": [
      "\n",
      "The probability of rolling 2 die and \n",
      "obtaining a result that is an even\n",
      "number of a number greater than 7 is:\n",
      "68.6%\n"
     ]
    }
   ],
   "source": [
    "# TODO\n",
    "\n",
    "import random\n",
    "import numpy as np\n",
    "\n",
    "def roll_dice(n=1000):\n",
    "    die1 = np.random.randint(1, 7, size=n)\n",
    "    die2 = np.random.randint(1, 7, size=n)\n",
    "    total_scores = die1 + die2\n",
    "    return total_scores\n",
    "\n",
    "def count_desired_outcomes(scores):\n",
    "    condition = (scores % 2 == 0) | (scores > 7)\n",
    "    return np.sum(condition)\n",
    "\n",
    "def probabilty_of_desired_outcomes(n=1000):\n",
    "    scores = roll_dice(n)\n",
    "    desired_count = count_desired_outcomes(scores)\n",
    "    probability = desired_count / n\n",
    "    return round(probability * 100, 3)\n",
    "\n",
    "print(f\"\"\"\n",
    "The probability of rolling 2 die and \n",
    "obtaining a result that is an even\n",
    "number of a number greater than 7 is:\n",
    "{probabilty_of_desired_outcomes()}%\"\"\")"
   ]
  },
  {
   "cell_type": "markdown",
   "id": "55732bca",
   "metadata": {},
   "source": [
    "## Exercise 2\n",
    "\n",
    "A box contains 10 white balls, 20 red balls and 30 green balls. If we take 5 balls from the box with replacement (we take the ball, observe what color it is and put it back into the box). We want to know the probability of:\n",
    "\n",
    "1. Take 3 white and 2 red.\n",
    "2. Take all of the same color.\n",
    "\n",
    "Run the experiment 1000 times and calculate the above probabilities."
   ]
  },
  {
   "cell_type": "code",
   "execution_count": 31,
   "id": "23244d20",
   "metadata": {},
   "outputs": [
    {
     "name": "stdout",
     "output_type": "stream",
     "text": [
      "Probability of exactly 3 white and 2 red: 0.7%\n",
      "Probability of all balls being the same color: 3.9%\n"
     ]
    }
   ],
   "source": [
    "ball_box = {}\n",
    "\n",
    "# Create the box of balls\n",
    "for i in range(60):\n",
    "    if i < 10:\n",
    "        ball_box[i] = \"White\"\n",
    "    elif (i > 9) and (i < 30):\n",
    "        ball_box[i] = \"Red\"\n",
    "    else:\n",
    "        ball_box[i] = \"Green\"\n",
    "\n",
    "#print(ball_box)\n",
    "            \n",
    "# TODO\n",
    "from collections import Counter\n",
    "\n",
    "def draw_balls(ball_box, n=5):\n",
    "    indices = np.random.randint(0, len(ball_box), size=n)\n",
    "    return [ball_box[i] for i in indices]\n",
    "\n",
    "def calculate_probabilities(ball_box, iterations=1000):\n",
    "    \"\"\"\n",
    "    Simulate the experiment and calculate the probabilities for:\n",
    "    1. Exactly 3 white and 2 red balls.\n",
    "    2. All balls being the same color.\n",
    "    \"\"\"\n",
    "    condition_1_count = 0\n",
    "    condition_2_count = 0\n",
    "\n",
    "    for _ in range(iterations):\n",
    "        draw = draw_balls(ball_box)\n",
    "        counts = Counter(draw)\n",
    "\n",
    "        # Condition 1: Exactly 3 white and 2 red\n",
    "        if counts[\"White\"] == 3 and counts[\"Red\"] == 2:\n",
    "            condition_1_count += 1\n",
    "\n",
    "        # Condition 2: All balls of the same color\n",
    "        if len(counts) == 1:  # Only one color in the draw\n",
    "            condition_2_count += 1\n",
    "\n",
    "    prob_condition_1 = condition_1_count / iterations\n",
    "    prob_condition_2 = condition_2_count / iterations\n",
    "\n",
    "    return prob_condition_1, prob_condition_2\n",
    "\n",
    "\n",
    "prob_condition_1, prob_condition_2 = calculate_probabilities(ball_box)\n",
    "print(f\"Probability of exactly 3 white and 2 red: {round(prob_condition_1 * 100, 2)}%\")\n",
    "print(f\"Probability of all balls being the same color: {round(prob_condition_2 * 100, 2)}%\")\n",
    "\n"
   ]
  }
 ],
 "metadata": {
  "kernelspec": {
   "display_name": ".venv",
   "language": "python",
   "name": "python3"
  },
  "language_info": {
   "codemirror_mode": {
    "name": "ipython",
    "version": 3
   },
   "file_extension": ".py",
   "mimetype": "text/x-python",
   "name": "python",
   "nbconvert_exporter": "python",
   "pygments_lexer": "ipython3",
   "version": "3.11.4"
  }
 },
 "nbformat": 4,
 "nbformat_minor": 5
}
